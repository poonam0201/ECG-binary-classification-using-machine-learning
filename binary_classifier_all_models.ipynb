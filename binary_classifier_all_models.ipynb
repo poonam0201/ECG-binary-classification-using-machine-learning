{
 "cells": [
  {
   "cell_type": "code",
   "execution_count": 1,
   "metadata": {},
   "outputs": [
    {
     "name": "stderr",
     "output_type": "stream",
     "text": [
      "Using TensorFlow backend.\n"
     ]
    }
   ],
   "source": [
    "import pandas as pd \n",
    "import numpy as np\n",
    "import matplotlib.pyplot as plt # plotting\n",
    "import os\n",
    "import sklearn\n",
    "from keras.models import Sequential\n",
    "from keras.layers import Flatten, Dense, Dropout, BatchNormalization, AveragePooling2D\n",
    "from sklearn.model_selection import train_test_split\n",
    "from sklearn import svm\n",
    "from sklearn.metrics import classification_report, confusion_matrix\n",
    "from sklearn.metrics import accuracy_score, f1_score, precision_score, recall_score\n",
    "from sklearn.linear_model import LogisticRegression\n",
    "from sklearn.naive_bayes import GaussianNB\n",
    "from sklearn.linear_model import SGDClassifier\n",
    "from sklearn.neighbors import KNeighborsClassifier\n",
    "from sklearn.tree import DecisionTreeClassifier\n",
    "from sklearn.ensemble import RandomForestClassifier\n",
    "import scipy\n",
    "from imblearn.over_sampling import SMOTE\n",
    "from sklearn.model_selection import cross_validate"
   ]
  },
  {
   "cell_type": "code",
   "execution_count": 2,
   "metadata": {},
   "outputs": [],
   "source": [
    "# reading csv file  \n",
    "normal=pd.read_csv(\"ptbdb_normal.csv\",header=None) \n",
    "#normal.head(2) #for 2 rows\n",
    "#normal.head() #for some top rows\n",
    "#normal\n",
    "\n",
    "abnormal=pd.read_csv(\"ptbdb_abnormal.csv\",header=None) \n",
    "#abnormal\n",
    "\n",
    "test=pd.read_csv(\"mitbih_test.csv\",header=None) \n",
    "#test.head(2)\n",
    "#test\n",
    "\n",
    "train=pd.read_csv(\"mitbih_train.csv\",header=None) \n",
    "#train"
   ]
  },
  {
   "cell_type": "code",
   "execution_count": 3,
   "metadata": {},
   "outputs": [
    {
     "name": "stdout",
     "output_type": "stream",
     "text": [
      "Type\tCount\n",
      "0.0    72471\n",
      "4.0     6431\n",
      "2.0     5788\n",
      "1.0     2223\n",
      "3.0      641\n",
      "Name: 187, dtype: int64\n"
     ]
    }
   ],
   "source": [
    "print(\"Type\\tCount\")\n",
    "print((train[187]).value_counts())\n",
    "#Classes: ['N': 0, 'S': 1, 'V': 2, 'F': 3, 'Q': 4]\n",
    "# N- normal, S-supraventricular, V-ventricular, F-fusion, Q- unknown"
   ]
  },
  {
   "cell_type": "code",
   "execution_count": 4,
   "metadata": {},
   "outputs": [
    {
     "name": "stdout",
     "output_type": "stream",
     "text": [
      "x_train shape :  (87554, 187)\n",
      "y_train shape :  (87554,)\n",
      "x_test shape :  (21892, 187)\n",
      "y_test shape :  (21892,)\n"
     ]
    }
   ],
   "source": [
    "x1_train=train.iloc[:,0:187] \n",
    "print(\"x_train shape : \",x1_train.shape)\n",
    "\n",
    "y1_train=train.iloc[:,187] \n",
    "print(\"y_train shape : \",y1_train.shape)\n",
    "\n",
    "\n",
    "x1_test=test.iloc[:,0:187] \n",
    "print(\"x_test shape : \",x1_test.shape)\n",
    "\n",
    "y1_test=test.iloc[:,187] \n",
    "print(\"y_test shape : \",y1_test.shape)\n",
    "\n"
   ]
  },
  {
   "cell_type": "code",
   "execution_count": 5,
   "metadata": {},
   "outputs": [],
   "source": [
    "y_train=[]                              # making multiclass to binary class now y_train containing either 0 or 1 \n",
    "for i in y1_train:\n",
    "  if i not in  [0.0]:\n",
    "    y_train.append(1)\n",
    "    #print(\"value is\",i)\n",
    "  else:\n",
    "    y_train.append(0)\n",
    "    #print(\"value\",i)\n",
    "    \n",
    "#print(type(y1))    \n",
    "#print(y_train.shape)"
   ]
  },
  {
   "cell_type": "code",
   "execution_count": 6,
   "metadata": {},
   "outputs": [],
   "source": [
    "y_test=[]                              # making multiclass to binary class.now y_test containing either 0 or 1 \n",
    "for i in y1_test:\n",
    "  if i not in  [0.0]:\n",
    "    y_test.append(1)\n",
    "    #print(\"value is\",i)\n",
    "  else:\n",
    "    y_test.append(0)\n",
    "    #print(\"value\",i)\n",
    "#print(y_test)"
   ]
  },
  {
   "cell_type": "code",
   "execution_count": 7,
   "metadata": {},
   "outputs": [],
   "source": [
    "#create new df \n",
    "y_train = pd.DataFrame({'col':y_train})\n",
    "#print (y_train)\n",
    "\n",
    "y_test = pd.DataFrame({'col':y_test})\n",
    "#print (y_test)\n"
   ]
  },
  {
   "cell_type": "code",
   "execution_count": 8,
   "metadata": {},
   "outputs": [
    {
     "name": "stdout",
     "output_type": "stream",
     "text": [
      "x_train shape :  (87554, 187)\n",
      "y_train shape :  (87554, 1)\n",
      "x_test shape :  (21892, 187)\n",
      "y_test shape :  (21892, 1)\n"
     ]
    }
   ],
   "source": [
    "print(\"x_train shape : \",x1_train.shape)\n",
    "print(\"y_train shape : \",y_train.shape)\n",
    "print(\"x_test shape : \",x1_test.shape)\n",
    "print(\"y_test shape : \",y_test.shape)"
   ]
  },
  {
   "cell_type": "code",
   "execution_count": 9,
   "metadata": {},
   "outputs": [],
   "source": [
    "x1_train[187] = y_train\n",
    "x1_test[187] =  y_test"
   ]
  },
  {
   "cell_type": "code",
   "execution_count": 10,
   "metadata": {},
   "outputs": [],
   "source": [
    "train=x1_train\n",
    "test=x1_test"
   ]
  },
  {
   "cell_type": "code",
   "execution_count": 11,
   "metadata": {},
   "outputs": [
    {
     "name": "stdout",
     "output_type": "stream",
     "text": [
      "train dataset Class 0 : 72471\n",
      "train dataset Class 1 : 15083\n",
      "****************************\n",
      "test dataset Class 0 : 18118\n",
      "test dataset Class 1 : 3774\n"
     ]
    }
   ],
   "source": [
    "#print(\"Type\\tCount\")\n",
    "a=(train[187]).value_counts()\n",
    "#print(a)\n",
    "print('train dataset Class 0 :', a[0])\n",
    "print('train dataset Class 1 :', a[1])\n",
    "\n",
    "#a.plot(kind='bar', title='Count of train classes');\n",
    "\n",
    "print(\"****************************\")\n",
    "\n",
    "#print(\"Type\\tCount\")\n",
    "b=(test[187]).value_counts()\n",
    "#print(b)\n",
    "print('test dataset Class 0 :', b[0])\n",
    "print('test dataset Class 1 :', b[1])\n",
    "#b.plot(kind='bar', title='Count of test classes');"
   ]
  },
  {
   "cell_type": "code",
   "execution_count": 12,
   "metadata": {},
   "outputs": [],
   "source": [
    "# Class count\n",
    "tr_count_class_0, tr_count_class_1=train[187].value_counts()\n",
    "ts_count_class_0, ts_count_class_1=test[187].value_counts()\n",
    "\n",
    "# Divide by class\n",
    "tr_class_0 = train[train[187] == 0]\n",
    "tr_class_1 = train[train[187] == 1]\n",
    "\n",
    "ts_class_0 = test[test[187] == 0]\n",
    "ts_class_1 = test[test[187] == 1]\n"
   ]
  },
  {
   "cell_type": "code",
   "execution_count": 13,
   "metadata": {},
   "outputs": [
    {
     "name": "stdout",
     "output_type": "stream",
     "text": [
      "Random over-sampling:\n",
      "1    72471\n",
      "0    72471\n",
      "Name: 187, dtype: int64\n"
     ]
    },
    {
     "data": {
      "image/png": "[encoded data removed]",
      "text/plain": [
       "<Figure size 432x288 with 1 Axes>"
      ]
     },
     "metadata": {
      "needs_background": "light"
     },
     "output_type": "display_data"
    }
   ],
   "source": [
    "tr_class1_over = tr_class_1.sample(tr_count_class_0, replace=True)\n",
    "train_over = pd.concat([tr_class_0, tr_class1_over], axis=0)\n",
    "\n",
    "print('Random over-sampling:')\n",
    "\n",
    "print(train_over[187].value_counts())\n",
    "\n",
    "train_over[187].value_counts().plot(kind='bar', title='Count of classes in train dataset');"
   ]
  },
  {
   "cell_type": "code",
   "execution_count": 14,
   "metadata": {},
   "outputs": [
    {
     "name": "stdout",
     "output_type": "stream",
     "text": [
      "Random over-sampling:\n",
      "1    18118\n",
      "0    18118\n",
      "Name: 187, dtype: int64\n"
     ]
    },
    {
     "data": {
      "image/png": "[encoded data removed]",
      "text/plain": [
       "<Figure size 432x288 with 1 Axes>"
      ]
     },
     "metadata": {
      "needs_background": "light"
     },
     "output_type": "display_data"
    }
   ],
   "source": [
    "ts_class1_over = ts_class_1.sample(ts_count_class_0, replace=True)\n",
    "test_over = pd.concat([ts_class_0, ts_class1_over], axis=0)\n",
    "\n",
    "print('Random over-sampling:')\n",
    "\n",
    "print(test_over[187].value_counts())\n",
    "\n",
    "test_over[187].value_counts().plot(kind='bar', title='Count of classes in train dataset');"
   ]
  },
  {
   "cell_type": "code",
   "execution_count": 15,
   "metadata": {},
   "outputs": [],
   "source": [
    "train=train_over\n",
    "test=test_over"
   ]
  },
  {
   "cell_type": "code",
   "execution_count": 16,
   "metadata": {},
   "outputs": [
    {
     "name": "stdout",
     "output_type": "stream",
     "text": [
      "Type\tCount\n",
      "1    72471\n",
      "0    72471\n",
      "Name: 187, dtype: int64\n",
      "***************************\n",
      "Type\tCount\n",
      "1    18118\n",
      "0    18118\n",
      "Name: 187, dtype: int64\n"
     ]
    }
   ],
   "source": [
    "print(\"Type\\tCount\")\n",
    "print((train[187]).value_counts())\n",
    "\n",
    "\n",
    "print(\"***************************\")\n",
    "\n",
    "print(\"Type\\tCount\")\n",
    "print((test[187]).value_counts())"
   ]
  },
  {
   "cell_type": "code",
   "execution_count": 17,
   "metadata": {},
   "outputs": [
    {
     "name": "stdout",
     "output_type": "stream",
     "text": [
      "x_train shape :  (144942, 187)\n",
      "y_train shape :  (144942,)\n",
      "x_test shape :  (36236, 187)\n",
      "y_test shape :  (36236,)\n"
     ]
    }
   ],
   "source": [
    "x1_train=train.iloc[:,0:187] \n",
    "print(\"x_train shape : \",x1_train.shape)\n",
    "\n",
    "y1_train=train.iloc[:,187] \n",
    "print(\"y_train shape : \",y1_train.shape)\n",
    "\n",
    "\n",
    "x1_test=test.iloc[:,0:187] \n",
    "print(\"x_test shape : \",x1_test.shape)\n",
    "\n",
    "y1_test=test.iloc[:,187] \n",
    "print(\"y_test shape : \",y1_test.shape)\n"
   ]
  },
  {
   "cell_type": "code",
   "execution_count": null,
   "metadata": {},
   "outputs": [],
   "source": []
  },
  {
   "cell_type": "code",
   "execution_count": 18,
   "metadata": {},
   "outputs": [
    {
     "name": "stdout",
     "output_type": "stream",
     "text": [
      "(144942, 187)\n",
      "(36236, 187)\n"
     ]
    }
   ],
   "source": [
    "from sklearn.preprocessing import StandardScaler\n",
    "standardized_tr_data=StandardScaler().fit_transform(x1_train)\n",
    "print(standardized_tr_data.shape)\n",
    "\n",
    "standardized_ts_data=StandardScaler().fit_transform(x1_test)\n",
    "print(standardized_ts_data.shape)\n",
    "\n"
   ]
  },
  {
   "cell_type": "code",
   "execution_count": 19,
   "metadata": {},
   "outputs": [
    {
     "name": "stdout",
     "output_type": "stream",
     "text": [
      "shape of train sample (144942, 187) and labels (144942,)\n",
      "shape of test sample (36236, 187) and labels (36236,)\n"
     ]
    }
   ],
   "source": [
    "sample_tr_data=standardized_tr_data\n",
    "labels_tr=y1_train\n",
    "print(\"shape of train sample {0} and labels {1}\".format(sample_tr_data.shape,y1_train.shape))\n",
    "\n",
    "sample_ts_data=standardized_ts_data\n",
    "labels_ts=y1_test\n",
    "print(\"shape of test sample {0} and labels {1}\".format(sample_ts_data.shape,y1_test.shape))"
   ]
  },
  {
   "cell_type": "code",
   "execution_count": null,
   "metadata": {},
   "outputs": [],
   "source": []
  },
  {
   "cell_type": "code",
   "execution_count": 20,
   "metadata": {},
   "outputs": [
    {
     "data": {
      "image/png": "[encoded data removed]",
      "text/plain": [
       "<Figure size 432x288 with 1 Axes>"
      ]
     },
     "metadata": {
      "needs_background": "light"
     },
     "output_type": "display_data"
    }
   ],
   "source": [
    "#for train data\n",
    "\n",
    "from sklearn import decomposition\n",
    "pca=decomposition.PCA()\n",
    "\n",
    "pca.n_components = 80\n",
    "tr_pca_data = pca.fit_transform(sample_tr_data)\n",
    "\n",
    "\n",
    "percentage_var_explained = pca.explained_variance_ / np.sum(pca.explained_variance_ )\n",
    "\n",
    "cummulative_var_exp = np.cumsum(percentage_var_explained)\n",
    "\n",
    "\n",
    "\n",
    "\n",
    "\n",
    "# Plot the PCA spectrum\n",
    "plt.figure(1, figsize=(6, 4))\n",
    "\n",
    "plt.clf()\n",
    "plt.plot(cummulative_var_exp, linewidth=2)\n",
    "plt.axis('tight')\n",
    "plt.grid()\n",
    "plt.xlabel('n_components')\n",
    "plt.ylabel('Cumulative_explained_variance')\n",
    "plt.show()\n"
   ]
  },
  {
   "cell_type": "code",
   "execution_count": 21,
   "metadata": {},
   "outputs": [
    {
     "data": {
      "image/png": "[encoded data removed]",
      "text/plain": [
       "<Figure size 432x288 with 1 Axes>"
      ]
     },
     "metadata": {
      "needs_background": "light"
     },
     "output_type": "display_data"
    }
   ],
   "source": [
    "#for test data\n",
    "\n",
    "from sklearn import decomposition\n",
    "pca=decomposition.PCA()\n",
    "\n",
    "pca.n_components = 80\n",
    "ts_pca_data = pca.fit_transform(sample_ts_data)\n",
    "\n",
    "\n",
    "percentage_var_explained = pca.explained_variance_ / np.sum(pca.explained_variance_ )\n",
    "\n",
    "cummulative_var_exp = np.cumsum(percentage_var_explained)\n",
    "\n",
    "\n",
    "\n",
    "\n",
    "\n",
    "# Plot the PCA spectrum\n",
    "plt.figure(1, figsize=(6, 4))\n",
    "\n",
    "plt.clf()\n",
    "plt.plot(cummulative_var_exp, linewidth=2)\n",
    "plt.axis('tight')\n",
    "plt.grid()\n",
    "plt.xlabel('n_components')\n",
    "plt.ylabel('Cumulative_explained_variance')\n",
    "plt.show()"
   ]
  },
  {
   "cell_type": "code",
   "execution_count": 22,
   "metadata": {},
   "outputs": [
    {
     "name": "stdout",
     "output_type": "stream",
     "text": [
      "(144942, 80)\n",
      "(144942,)\n",
      "(36236, 80)\n",
      "(36236,)\n"
     ]
    }
   ],
   "source": [
    "print(tr_pca_data.shape)\n",
    "print(y1_train.shape)\n",
    "\n",
    "print(ts_pca_data.shape)\n",
    "print(y1_test.shape)\n",
    "\n"
   ]
  },
  {
   "cell_type": "code",
   "execution_count": 23,
   "metadata": {},
   "outputs": [
    {
     "name": "stdout",
     "output_type": "stream",
     "text": [
      "(144942, 80)\n",
      "(144942,)\n",
      "(36236, 80)\n",
      "(36236,)\n"
     ]
    }
   ],
   "source": [
    "x_train1=tr_pca_data\n",
    "y_train1=y1_train\n",
    "x_test1=ts_pca_data\n",
    "y_test1=y1_test\n",
    "\n",
    "print(x_train1.shape)\n",
    "print(y_train1.shape)\n",
    "print(x_test1.shape)\n",
    "print(y_test1.shape)"
   ]
  },
  {
   "cell_type": "code",
   "execution_count": 24,
   "metadata": {},
   "outputs": [
    {
     "name": "stdout",
     "output_type": "stream",
     "text": [
      "[[ 8233  9885]\n",
      " [ 2728 15390]]\n",
      "********************************\n",
      "              precision    recall  f1-score   support\n",
      "\n",
      "           0       0.75      0.45      0.57     18118\n",
      "           1       0.61      0.85      0.71     18118\n",
      "\n",
      "    accuracy                           0.65     36236\n",
      "   macro avg       0.68      0.65      0.64     36236\n",
      "weighted avg       0.68      0.65      0.64     36236\n",
      "\n",
      "********************************\n",
      "Precision of knn is : 0.6800098379552862\n",
      "Recall of knn is : 0.651920741803731\n",
      "F1_score of knn is : 0.6377907784548835\n",
      "Accuracy of knn is : 0.651920741803731\n"
     ]
    }
   ],
   "source": [
    "#K-Nearest Neighbours\n",
    "a_knn=KNeighborsClassifier(n_neighbors=15)\n",
    "a_knn.fit(x_train1,y_train1)\n",
    "y_pred_knn=a_knn.predict(x_test1)\n",
    "\n",
    "cm_knn=confusion_matrix(y_test1,y_pred_knn)\n",
    "print(cm_knn)\n",
    "print(\"********************************\")\n",
    "\n",
    "report_knn=classification_report(y_test1,y_pred_knn)\n",
    "print(report_knn)\n",
    "\n",
    "print(\"********************************\")\n",
    "\n",
    "Precision_knn= precision_score(y_test1, y_pred_knn,average='weighted')      \n",
    "print('Precision of knn is : {0}'.format(Precision_knn))\n",
    "\n",
    "Recall_knn= recall_score(y_test1, y_pred_knn,average='weighted')\n",
    "print('Recall of knn is : {0}'.format(Recall_knn))\n",
    "\n",
    "F1_score_knn= f1_score(y_test1, y_pred_knn,average='weighted')\n",
    "print('F1_score of knn is : {0}'.format(F1_score_knn))\n",
    "\n",
    "Accuracy_knn=accuracy_score(y_test1, y_pred_knn)\n",
    "print(\"Accuracy of knn is : {0}\".format(Accuracy_knn))\n"
   ]
  },
  {
   "cell_type": "code",
   "execution_count": null,
   "metadata": {},
   "outputs": [],
   "source": []
  },
  {
   "cell_type": "code",
   "execution_count": 25,
   "metadata": {},
   "outputs": [
    {
     "name": "stdout",
     "output_type": "stream",
     "text": [
      "[[11734  6384]\n",
      " [ 5595 12523]]\n",
      "********************************\n",
      "              precision    recall  f1-score   support\n",
      "\n",
      "           0       0.68      0.65      0.66     18118\n",
      "           1       0.66      0.69      0.68     18118\n",
      "\n",
      "    accuracy                           0.67     36236\n",
      "   macro avg       0.67      0.67      0.67     36236\n",
      "weighted avg       0.67      0.67      0.67     36236\n",
      "\n",
      "********************************\n",
      "Accuracy of svm is : 0.6694171542112816\n",
      "F1_score of svm is : 0.669260349261435\n",
      "Recall of svm is : 0.6694171542112816\n",
      "Precision of svm is : 0.6697390499762326\n"
     ]
    }
   ],
   "source": [
    "# SVM model\n",
    "a_svm=svm.SVC(gamma='scale')\n",
    "a_svm.fit(x_train1,y_train1)\n",
    "y_pred_svm=a_svm.predict(x_test1)\n",
    "\n",
    "\n",
    "#from sklearn.metrics import classification_report, confusion_matrix\n",
    "cm_svm=confusion_matrix(y_test1,y_pred_svm)\n",
    "print(cm_svm)\n",
    "print(\"********************************\")\n",
    "\n",
    "report_svm=classification_report(y_test1,y_pred_svm)\n",
    "print(report_svm)\n",
    "\n",
    "#Precision=TP/(TP+FP)\n",
    "#Recall=TP/(TP+FN)\n",
    "#F1 Score=(2*Recall*Precision)/(Recall+Precision)\n",
    "#Accuracy=(TP+TN)/(TP+TN+FN+FP)\n",
    "#Accuracy_Score_svm=accuracy_score(y_test,y_pred_svm)\n",
    "#print('Average Accuracy:%0.2f +/- (%0.1f) %%' % (Accuracy_Score_svm.mean()*100, Accuracy_Score_svm.std()*100))\n",
    "\n",
    "\n",
    "print(\"********************************\")\n",
    "\n",
    "\n",
    "Accuracy_svm=accuracy_score(y_test1, y_pred_svm)\n",
    "print(\"Accuracy of svm is : {0}\".format(Accuracy_svm))\n",
    "\n",
    "F1_score_svm= f1_score(y_test1, y_pred_svm,average='weighted')\n",
    "print('F1_score of svm is : {0}'.format(F1_score_svm))\n",
    "\n",
    "Recall_svm= recall_score(y_test1, y_pred_svm,average='weighted')\n",
    "print('Recall of svm is : {0}'.format(Recall_svm))\n",
    "      \n",
    "Precision_svm= precision_score(y_test1, y_pred_svm,average='weighted')      \n",
    "print('Precision of svm is : {0}'.format(Precision_svm))\n",
    "\n"
   ]
  },
  {
   "cell_type": "code",
   "execution_count": null,
   "metadata": {},
   "outputs": [],
   "source": []
  },
  {
   "cell_type": "code",
   "execution_count": 26,
   "metadata": {},
   "outputs": [
    {
     "name": "stderr",
     "output_type": "stream",
     "text": [
      "C:\\ProgramData\\Anaconda3\\lib\\site-packages\\sklearn\\linear_model\\logistic.py:432: FutureWarning: Default solver will be changed to 'lbfgs' in 0.22. Specify a solver to silence this warning.\n",
      "  FutureWarning)\n"
     ]
    },
    {
     "name": "stdout",
     "output_type": "stream",
     "text": [
      "[[10219  7899]\n",
      " [ 7271 10847]]\n",
      "********************************\n",
      "              precision    recall  f1-score   support\n",
      "\n",
      "           0       0.58      0.56      0.57     18118\n",
      "           1       0.58      0.60      0.59     18118\n",
      "\n",
      "    accuracy                           0.58     36236\n",
      "   macro avg       0.58      0.58      0.58     36236\n",
      "weighted avg       0.58      0.58      0.58     36236\n",
      "\n",
      "********************************\n",
      "Precision of lr is : 0.5814534186580349\n",
      "Recall of lr is : 0.5813555580086103\n",
      "F1_score of lr is : 0.5812297771431669\n",
      "Accuracy of lr is : 0.5813555580086103\n"
     ]
    }
   ],
   "source": [
    "# Logistic Regression\n",
    "a_lr=LogisticRegression()\n",
    "a_lr.fit(x_train1,y_train1)\n",
    "y_pred_lr=a_lr.predict(x_test1)\n",
    "\n",
    "cm_lr=confusion_matrix(y_test1,y_pred_lr)\n",
    "print(cm_lr)\n",
    "print(\"********************************\")\n",
    "\n",
    "report_lr=classification_report(y_test1,y_pred_lr)\n",
    "print(report_lr)\n",
    "\n",
    "print(\"********************************\")\n",
    "\n",
    "Precision_lr= precision_score(y_test1, y_pred_lr,average='weighted')      \n",
    "print('Precision of lr is : {0}'.format(Precision_lr))\n",
    "\n",
    "Recall_lr= recall_score(y_test1, y_pred_lr,average='weighted')\n",
    "print('Recall of lr is : {0}'.format(Recall_lr))\n",
    "\n",
    "F1_score_lr= f1_score(y_test1, y_pred_lr,average='weighted')\n",
    "print('F1_score of lr is : {0}'.format(F1_score_lr))\n",
    "\n",
    "Accuracy_lr=accuracy_score(y_test1, y_pred_lr)\n",
    "print(\"Accuracy of lr is : {0}\".format(Accuracy_lr))\n"
   ]
  },
  {
   "cell_type": "code",
   "execution_count": null,
   "metadata": {},
   "outputs": [],
   "source": []
  },
  {
   "cell_type": "code",
   "execution_count": 27,
   "metadata": {},
   "outputs": [
    {
     "name": "stdout",
     "output_type": "stream",
     "text": [
      "[[11382  6736]\n",
      " [ 3083 15035]]\n",
      "********************************\n",
      "              precision    recall  f1-score   support\n",
      "\n",
      "           0       0.79      0.63      0.70     18118\n",
      "           1       0.69      0.83      0.75     18118\n",
      "\n",
      "    accuracy                           0.73     36236\n",
      "   macro avg       0.74      0.73      0.73     36236\n",
      "weighted avg       0.74      0.73      0.73     36236\n",
      "\n",
      "********************************\n",
      "Precision of nb is : 0.7387312150611883\n",
      "Recall of nb is : 0.7290263826029363\n",
      "F1_score of nb is : 0.7262442223861206\n",
      "Accuracy of nb is : 0.7290263826029363\n"
     ]
    }
   ],
   "source": [
    "#Naive Bayes\n",
    "a_nb=GaussianNB()\n",
    "a_nb.fit(x_train1,y_train1)\n",
    "y_pred_nb=a_nb.predict(x_test1)\n",
    "\n",
    "cm_nb=confusion_matrix(y_test1,y_pred_nb)\n",
    "print(cm_nb)\n",
    "print(\"********************************\")\n",
    "\n",
    "report_nb=classification_report(y_test1,y_pred_nb)\n",
    "print(report_nb)\n",
    "\n",
    "print(\"********************************\")\n",
    "\n",
    "Precision_nb= precision_score(y_test1, y_pred_nb,average='weighted')      \n",
    "print('Precision of nb is : {0}'.format(Precision_nb))\n",
    "\n",
    "Recall_nb= recall_score(y_test1, y_pred_nb,average='weighted')\n",
    "print('Recall of nb is : {0}'.format(Recall_nb))\n",
    "\n",
    "F1_score_nb= f1_score(y_test1, y_pred_nb,average='weighted')\n",
    "print('F1_score of nb is : {0}'.format(F1_score_nb))\n",
    "\n",
    "Accuracy_nb=accuracy_score(y_test1, y_pred_nb)\n",
    "print(\"Accuracy of nb is : {0}\".format(Accuracy_nb))\n"
   ]
  },
  {
   "cell_type": "code",
   "execution_count": null,
   "metadata": {},
   "outputs": [],
   "source": []
  },
  {
   "cell_type": "code",
   "execution_count": 28,
   "metadata": {},
   "outputs": [
    {
     "name": "stdout",
     "output_type": "stream",
     "text": [
      "[[10195  7923]\n",
      " [ 7476 10642]]\n",
      "********************************\n",
      "              precision    recall  f1-score   support\n",
      "\n",
      "           0       0.58      0.56      0.57     18118\n",
      "           1       0.57      0.59      0.58     18118\n",
      "\n",
      "    accuracy                           0.58     36236\n",
      "   macro avg       0.58      0.58      0.57     36236\n",
      "weighted avg       0.58      0.58      0.57     36236\n",
      "\n",
      "********************************\n",
      "Precision of sgd is : 0.575081577158033\n",
      "Recall of sgd is : 0.575035875924495\n",
      "F1_score of sgd is : 0.574971198472135\n",
      "Accuracy of sgd is : 0.575035875924495\n"
     ]
    }
   ],
   "source": [
    "#Stochastic Gradient Descent\n",
    "a_sgd=SGDClassifier(loss='modified_huber', shuffle=True, random_state=101)\n",
    "a_sgd.fit(x_train1,y_train1)\n",
    "y_pred_sgd=a_sgd.predict(x_test1)\n",
    "\n",
    "cm_sgd=confusion_matrix(y_test1,y_pred_sgd)\n",
    "print(cm_sgd)\n",
    "print(\"********************************\")\n",
    "\n",
    "report_sgd=classification_report(y_test1,y_pred_sgd)\n",
    "print(report_sgd)\n",
    "\n",
    "print(\"********************************\")\n",
    "\n",
    "Precision_sgd= precision_score(y_test1, y_pred_sgd,average='weighted')      \n",
    "print('Precision of sgd is : {0}'.format(Precision_sgd))\n",
    "\n",
    "Recall_sgd= recall_score(y_test1, y_pred_sgd,average='weighted')\n",
    "print('Recall of sgd is : {0}'.format(Recall_sgd))\n",
    "\n",
    "F1_score_sgd= f1_score(y_test1, y_pred_sgd,average='weighted')\n",
    "print('F1_score of sgd is : {0}'.format(F1_score_sgd))\n",
    "\n",
    "Accuracy_sgd=accuracy_score(y_test1, y_pred_sgd)\n",
    "print(\"Accuracy of sgd is : {0}\".format(Accuracy_sgd))"
   ]
  },
  {
   "cell_type": "code",
   "execution_count": null,
   "metadata": {},
   "outputs": [],
   "source": []
  },
  {
   "cell_type": "code",
   "execution_count": 29,
   "metadata": {},
   "outputs": [
    {
     "name": "stdout",
     "output_type": "stream",
     "text": [
      "[[11916  6202]\n",
      " [ 7954 10164]]\n",
      "********************************\n",
      "              precision    recall  f1-score   support\n",
      "\n",
      "           0       0.60      0.66      0.63     18118\n",
      "           1       0.62      0.56      0.59     18118\n",
      "\n",
      "    accuracy                           0.61     36236\n",
      "   macro avg       0.61      0.61      0.61     36236\n",
      "weighted avg       0.61      0.61      0.61     36236\n",
      "\n",
      "********************************\n",
      "Precision of dt is : 0.6103708321368623\n",
      "Recall of dt is : 0.7290263826029363\n",
      "F1_score of dt is : 0.6084233927460679\n",
      "Accuracy of dt is : 0.6093387791146926\n"
     ]
    }
   ],
   "source": [
    "# Decision Binary Tree\n",
    "a_dt=DecisionTreeClassifier(max_depth=10,random_state=101,max_features= None, min_samples_leaf=15)\n",
    "a_dt.fit(x_train1,y_train1)\n",
    "y_pred_dt=a_dt.predict(x_test1)\n",
    "\n",
    "cm_dt=confusion_matrix(y_test1,y_pred_dt)\n",
    "print(cm_dt)\n",
    "print(\"********************************\")\n",
    "\n",
    "report_dt=classification_report(y_test1,y_pred_dt)\n",
    "print(report_dt)\n",
    "\n",
    "print(\"********************************\")\n",
    "\n",
    "Precision_dt= precision_score(y_test1, y_pred_dt,average='weighted')      \n",
    "print('Precision of dt is : {0}'.format(Precision_dt))\n",
    "\n",
    "Recall_dt= recall_score(y_test1, y_pred_nb,average='weighted')\n",
    "print('Recall of dt is : {0}'.format(Recall_dt))\n",
    "\n",
    "F1_score_dt= f1_score(y_test1, y_pred_dt,average='weighted')\n",
    "print('F1_score of dt is : {0}'.format(F1_score_dt))\n",
    "\n",
    "Accuracy_dt=accuracy_score(y_test1, y_pred_dt)\n",
    "print(\"Accuracy of dt is : {0}\".format(Accuracy_dt))"
   ]
  },
  {
   "cell_type": "code",
   "execution_count": null,
   "metadata": {},
   "outputs": [],
   "source": []
  },
  {
   "cell_type": "code",
   "execution_count": 30,
   "metadata": {},
   "outputs": [
    {
     "name": "stdout",
     "output_type": "stream",
     "text": [
      "[[13746  4372]\n",
      " [ 6900 11218]]\n",
      "********************************\n",
      "              precision    recall  f1-score   support\n",
      "\n",
      "           0       0.67      0.76      0.71     18118\n",
      "           1       0.72      0.62      0.67     18118\n",
      "\n",
      "    accuracy                           0.69     36236\n",
      "   macro avg       0.69      0.69      0.69     36236\n",
      "weighted avg       0.69      0.69      0.69     36236\n",
      "\n",
      "********************************\n",
      "Precision of rf model is : 0.692679325024294\n",
      "Recall of rf model is : 0.6889281377635501\n",
      "F1_score of rf model is : 0.6874067031300409\n",
      "Accuracy of rf model is : 0.6889281377635501\n"
     ]
    }
   ],
   "source": [
    "# Random Forest Classifier\n",
    "a_rf=RandomForestClassifier(n_estimators=70,oob_score=True,n_jobs=-1,random_state=101,max_features=None,min_samples_leaf=30)\n",
    "a_rf.fit(x_train1,y_train1)\n",
    "y_pred_rf=a_rf.predict(x_test1)\n",
    "\n",
    "\n",
    "cm_rf=confusion_matrix(y_test1,y_pred_rf)\n",
    "print(cm_rf)\n",
    "print(\"********************************\")\n",
    "\n",
    "report_rf=classification_report(y_test1,y_pred_rf)\n",
    "print(report_rf)\n",
    "\n",
    "print(\"********************************\")\n",
    "\n",
    "Precision_rf= precision_score(y_test1, y_pred_rf,average='weighted')      \n",
    "print('Precision of rf model is : {0}'.format(Precision_rf))\n",
    "\n",
    "Recall_rf= recall_score(y_test1, y_pred_rf,average='weighted')\n",
    "print('Recall of rf model is : {0}'.format(Recall_rf))\n",
    "\n",
    "F1_score_rf= f1_score(y_test1, y_pred_rf,average='weighted')\n",
    "print('F1_score of rf model is : {0}'.format(F1_score_rf))\n",
    "\n",
    "Accuracy_rf=accuracy_score(y_test1, y_pred_rf)\n",
    "print(\"Accuracy of rf model is : {0}\".format(Accuracy_rf))"
   ]
  },
  {
   "cell_type": "code",
   "execution_count": null,
   "metadata": {},
   "outputs": [],
   "source": []
  },
  {
   "cell_type": "code",
   "execution_count": 31,
   "metadata": {},
   "outputs": [
    {
     "data": {
      "text/html": [
       "<div>\n",
       "<style scoped>\n",
       "    .dataframe tbody tr th:only-of-type {\n",
       "        vertical-align: middle;\n",
       "    }\n",
       "\n",
       "    .dataframe tbody tr th {\n",
       "        vertical-align: top;\n",
       "    }\n",
       "\n",
       "    .dataframe thead th {\n",
       "        text-align: right;\n",
       "    }\n",
       "</style>\n",
       "<table border=\"1\" class=\"dataframe\">\n",
       "  <thead>\n",
       "    <tr style=\"text-align: right;\">\n",
       "      <th></th>\n",
       "      <th>Model</th>\n",
       "      <th>Accuracy</th>\n",
       "      <th>Precision</th>\n",
       "      <th>Recall</th>\n",
       "      <th>F1_score</th>\n",
       "    </tr>\n",
       "  </thead>\n",
       "  <tbody>\n",
       "    <tr>\n",
       "      <th>5</th>\n",
       "      <td>Naive Bayes</td>\n",
       "      <td>0.729026</td>\n",
       "      <td>0.738731</td>\n",
       "      <td>0.729026</td>\n",
       "      <td>0.726244</td>\n",
       "    </tr>\n",
       "    <tr>\n",
       "      <th>3</th>\n",
       "      <td>Random Forest</td>\n",
       "      <td>0.688928</td>\n",
       "      <td>0.692679</td>\n",
       "      <td>0.688928</td>\n",
       "      <td>0.687407</td>\n",
       "    </tr>\n",
       "    <tr>\n",
       "      <th>2</th>\n",
       "      <td>Support Vector Machine</td>\n",
       "      <td>0.669417</td>\n",
       "      <td>0.669739</td>\n",
       "      <td>0.669417</td>\n",
       "      <td>0.669260</td>\n",
       "    </tr>\n",
       "    <tr>\n",
       "      <th>4</th>\n",
       "      <td>K-Nearest Neighbors</td>\n",
       "      <td>0.651921</td>\n",
       "      <td>0.680010</td>\n",
       "      <td>0.651921</td>\n",
       "      <td>0.637791</td>\n",
       "    </tr>\n",
       "    <tr>\n",
       "      <th>1</th>\n",
       "      <td>Decision Tree</td>\n",
       "      <td>0.609339</td>\n",
       "      <td>0.610371</td>\n",
       "      <td>0.729026</td>\n",
       "      <td>0.608423</td>\n",
       "    </tr>\n",
       "    <tr>\n",
       "      <th>0</th>\n",
       "      <td>Logistic Regression</td>\n",
       "      <td>0.581356</td>\n",
       "      <td>0.581453</td>\n",
       "      <td>0.581356</td>\n",
       "      <td>0.581230</td>\n",
       "    </tr>\n",
       "    <tr>\n",
       "      <th>6</th>\n",
       "      <td>Stochastic Gradient Descent</td>\n",
       "      <td>0.575036</td>\n",
       "      <td>0.575082</td>\n",
       "      <td>0.575036</td>\n",
       "      <td>0.574971</td>\n",
       "    </tr>\n",
       "  </tbody>\n",
       "</table>\n",
       "</div>"
      ],
      "text/plain": [
       "                         Model  Accuracy  Precision    Recall  F1_score\n",
       "5                  Naive Bayes  0.729026   0.738731  0.729026  0.726244\n",
       "3                Random Forest  0.688928   0.692679  0.688928  0.687407\n",
       "2       Support Vector Machine  0.669417   0.669739  0.669417  0.669260\n",
       "4          K-Nearest Neighbors  0.651921   0.680010  0.651921  0.637791\n",
       "1                Decision Tree  0.609339   0.610371  0.729026  0.608423\n",
       "0          Logistic Regression  0.581356   0.581453  0.581356  0.581230\n",
       "6  Stochastic Gradient Descent  0.575036   0.575082  0.575036  0.574971"
      ]
     },
     "execution_count": 31,
     "metadata": {},
     "output_type": "execute_result"
    }
   ],
   "source": [
    "\n",
    "models_initial = pd.DataFrame({\n",
    "    'Model'       : ['Logistic Regression', 'Decision Tree', 'Support Vector Machine', 'Random Forest', 'K-Nearest Neighbors', 'Naive Bayes','Stochastic Gradient Descent'],\n",
    "    'Accuracy'    : [Accuracy_lr,   Accuracy_dt,   Accuracy_svm,    Accuracy_rf,   Accuracy_knn,   Accuracy_nb,   Accuracy_sgd],\n",
    "    'Precision'   : [Precision_lr,  Precision_dt,  Precision_svm,   Precision_rf,  Precision_knn,  Precision_nb,  Precision_sgd],\n",
    "    'Recall'      : [Recall_lr,     Recall_dt,     Recall_svm,      Recall_rf,     Recall_knn,     Recall_nb,     Recall_sgd],\n",
    "    'F1_score'    : [F1_score_lr,   F1_score_dt,   F1_score_svm,    F1_score_rf,   F1_score_knn,   F1_score_nb,   F1_score_sgd],\n",
    "    }, columns = ['Model', 'Accuracy', 'Precision', 'Recall', 'F1_score'])\n",
    "\n",
    "models_initial.sort_values(by='Accuracy', ascending=False)\n",
    "\n"
   ]
  },
  {
   "cell_type": "code",
   "execution_count": null,
   "metadata": {},
   "outputs": [],
   "source": []
  },
  {
   "cell_type": "code",
   "execution_count": null,
   "metadata": {},
   "outputs": [],
   "source": []
  },
  {
   "cell_type": "code",
   "execution_count": null,
   "metadata": {},
   "outputs": [],
   "source": []
  },
  {
   "cell_type": "code",
   "execution_count": null,
   "metadata": {},
   "outputs": [],
   "source": []
  },
  {
   "cell_type": "code",
   "execution_count": null,
   "metadata": {},
   "outputs": [],
   "source": []
  },
  {
   "cell_type": "code",
   "execution_count": null,
   "metadata": {},
   "outputs": [],
   "source": []
  },
  {
   "cell_type": "code",
   "execution_count": null,
   "metadata": {},
   "outputs": [],
   "source": []
  },
  {
   "cell_type": "code",
   "execution_count": null,
   "metadata": {},
   "outputs": [],
   "source": []
  },
  {
   "cell_type": "code",
   "execution_count": null,
   "metadata": {},
   "outputs": [],
   "source": []
  },
  {
   "cell_type": "code",
   "execution_count": 143,
   "metadata": {},
   "outputs": [
    {
     "name": "stdout",
     "output_type": "stream",
     "text": [
      "(144942, 80)\n",
      "(144942,)\n",
      "(115953, 80)\n",
      "(115953,)\n",
      "(28989, 80)\n",
      "(28989,)\n"
     ]
    }
   ],
   "source": [
    "print(tr_pca_data.shape)\n",
    "\n",
    "print(y1_train.shape)\n",
    "\n",
    "seed = 2\n",
    "np.random.seed(seed)\n",
    "\n",
    "[x_train1,x_test1,y_train1,y_test1]=train_test_split(tr_pca_data,y1_train,test_size=0.2,random_state=2)\n",
    "\n",
    "print(x_train1.shape)\n",
    "print(y_train1.shape)\n",
    "print(x_test1.shape)\n",
    "print(y_test1.shape)"
   ]
  },
  {
   "cell_type": "code",
   "execution_count": 144,
   "metadata": {},
   "outputs": [
    {
     "name": "stdout",
     "output_type": "stream",
     "text": [
      "[[13991   437]\n",
      " [  595 13966]]\n",
      "********************************\n",
      "              precision    recall  f1-score   support\n",
      "\n",
      "           0       0.96      0.97      0.96     14428\n",
      "           1       0.97      0.96      0.96     14561\n",
      "\n",
      "    accuracy                           0.96     28989\n",
      "   macro avg       0.96      0.96      0.96     28989\n",
      "weighted avg       0.96      0.96      0.96     28989\n",
      "\n",
      "********************************\n",
      "Precision of knn is : 0.9644572547882108\n",
      "Recall of knn is : 0.9644002897650833\n",
      "F1_score of knn is : 0.9644001224336956\n",
      "Accuracy of knn is : 0.9644002897650833\n"
     ]
    }
   ],
   "source": [
    "#K-Nearest Neighbours\n",
    "a_knn=KNeighborsClassifier(n_neighbors=15)\n",
    "a_knn.fit(x_train1,y_train1)\n",
    "y_pred_knn=a_knn.predict(x_test1)\n",
    "\n",
    "cm_knn=confusion_matrix(y_test1,y_pred_knn)\n",
    "print(cm_knn)\n",
    "print(\"********************************\")\n",
    "\n",
    "report_knn=classification_report(y_test1,y_pred_knn)\n",
    "print(report_knn)\n",
    "\n",
    "print(\"********************************\")\n",
    "\n",
    "Precision_knn= precision_score(y_test1, y_pred_knn,average='weighted')      \n",
    "print('Precision of knn is : {0}'.format(Precision_knn))\n",
    "\n",
    "Recall_knn= recall_score(y_test1, y_pred_knn,average='weighted')\n",
    "print('Recall of knn is : {0}'.format(Recall_knn))\n",
    "\n",
    "F1_score_knn= f1_score(y_test1, y_pred_knn,average='weighted')\n",
    "print('F1_score of knn is : {0}'.format(F1_score_knn))\n",
    "\n",
    "Accuracy_knn=accuracy_score(y_test1, y_pred_knn)\n",
    "print(\"Accuracy of knn is : {0}\".format(Accuracy_knn))\n"
   ]
  },
  {
   "cell_type": "code",
   "execution_count": null,
   "metadata": {},
   "outputs": [],
   "source": []
  },
  {
   "cell_type": "code",
   "execution_count": null,
   "metadata": {},
   "outputs": [],
   "source": []
  }
 ],
 "metadata": {
  "kernelspec": {
   "display_name": "Python 3",
   "language": "python",
   "name": "python3"
  },
  "language_info": {
   "codemirror_mode": {
    "name": "ipython",
    "version": 3
   },
   "file_extension": ".py",
   "mimetype": "text/x-python",
   "name": "python",
   "nbconvert_exporter": "python",
   "pygments_lexer": "ipython3",
   "version": "3.7.3"
  }
 },
 "nbformat": 4,
 "nbformat_minor": 2
}
