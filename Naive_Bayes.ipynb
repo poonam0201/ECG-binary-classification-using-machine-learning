{
 "cells": [
  {
   "cell_type": "code",
   "execution_count": 1,
   "metadata": {},
   "outputs": [
    {
     "name": "stderr",
     "output_type": "stream",
     "text": [
      "Using TensorFlow backend.\n"
     ]
    }
   ],
   "source": [
    "# https://www.kaggle.com/shayanfazeli/heartbeat   # data set \n",
    "\n",
    "import pandas as pd \n",
    "import numpy as np\n",
    "import matplotlib.pyplot as plt # plotting\n",
    "import os\n",
    "import sklearn\n",
    "from keras.models import Sequential\n",
    "from keras.layers import Flatten, Dense, Dropout, BatchNormalization, AveragePooling2D\n",
    "from sklearn.model_selection import train_test_split\n",
    "from sklearn import svm\n",
    "from sklearn.metrics import classification_report, confusion_matrix\n",
    "from sklearn.metrics import accuracy_score, f1_score, precision_score, recall_score\n",
    "from sklearn.linear_model import LogisticRegression\n",
    "from sklearn.naive_bayes import GaussianNB\n",
    "from sklearn.linear_model import SGDClassifier\n",
    "from sklearn.neighbors import KNeighborsClassifier\n",
    "from sklearn.tree import DecisionTreeClassifier\n",
    "from sklearn.ensemble import RandomForestClassifier\n",
    "import scipy\n",
    "from imblearn.over_sampling import SMOTE\n",
    "from sklearn.model_selection import cross_validate"
   ]
  },
  {
   "cell_type": "code",
   "execution_count": 2,
   "metadata": {},
   "outputs": [],
   "source": [
    "normal=pd.read_csv(\"ptbdb_normal.csv\",header=None) \n",
    "#normal.head(2) #for 2 rows\n",
    "#normal.head() #for some top rows\n",
    "#normal\n",
    "\n",
    "abnormal=pd.read_csv(\"ptbdb_abnormal.csv\",header=None) \n",
    "#abnormal\n",
    "\n",
    "test=pd.read_csv(\"mitbih_test.csv\",header=None) \n",
    "#test.head(2)\n",
    "#test\n",
    "\n",
    "train=pd.read_csv(\"mitbih_train.csv\",header=None) \n",
    "#train"
   ]
  },
  {
   "cell_type": "code",
   "execution_count": 3,
   "metadata": {},
   "outputs": [
    {
     "name": "stdout",
     "output_type": "stream",
     "text": [
      "Type\tCount\n",
      "0.0    72471\n",
      "4.0     6431\n",
      "2.0     5788\n",
      "1.0     2223\n",
      "3.0      641\n",
      "Name: 187, dtype: int64\n",
      "x_train shape :  (87554, 187)\n",
      "y_train shape :  (87554,)\n",
      "x_test shape :  (21892, 187)\n",
      "y_test shape :  (21892,)\n"
     ]
    }
   ],
   "source": [
    "print(\"Type\\tCount\")\n",
    "print((train[187]).value_counts())\n",
    "#Classes: ['N': 0, 'S': 1, 'V': 2, 'F': 3, 'Q': 4]\n",
    "# N- normal, S-supraventricular, V-ventricular, F-fusion, Q- unknown\n",
    "\n",
    "x1_train=train.iloc[:,0:187] \n",
    "print(\"x_train shape : \",x1_train.shape)\n",
    "\n",
    "y1_train=train.iloc[:,187] \n",
    "print(\"y_train shape : \",y1_train.shape)\n",
    "\n",
    "\n",
    "x1_test=test.iloc[:,0:187] \n",
    "print(\"x_test shape : \",x1_test.shape)\n",
    "\n",
    "y1_test=test.iloc[:,187] \n",
    "print(\"y_test shape : \",y1_test.shape)"
   ]
  },
  {
   "cell_type": "code",
   "execution_count": 4,
   "metadata": {},
   "outputs": [],
   "source": [
    "y_train=[]                              # making multiclass to binary class now y_train containing either 0 or 1 \n",
    "for i in y1_train:\n",
    "  if i not in  [0.0]:\n",
    "    y_train.append(1)\n",
    "    #print(\"value is\",i)\n",
    "  else:\n",
    "    y_train.append(0)\n",
    "    #print(\"value\",i)\n",
    "    \n",
    "#print(type(y1))    \n",
    "#print(y_train.shape)"
   ]
  },
  {
   "cell_type": "code",
   "execution_count": 5,
   "metadata": {},
   "outputs": [],
   "source": [
    "y_test=[]                              # making multiclass to binary class.now y_test containing either 0 or 1 \n",
    "for i in y1_test:\n",
    "  if i not in  [0.0]:\n",
    "    y_test.append(1)\n",
    "    #print(\"value is\",i)\n",
    "  else:\n",
    "    y_test.append(0)\n",
    "    #print(\"value\",i)\n",
    "#print(y_test)"
   ]
  },
  {
   "cell_type": "code",
   "execution_count": 6,
   "metadata": {},
   "outputs": [
    {
     "name": "stdout",
     "output_type": "stream",
     "text": [
      "x_train shape :  (87554, 187)\n",
      "y_train shape :  (87554, 1)\n",
      "x_test shape :  (21892, 187)\n",
      "y_test shape :  (21892, 1)\n"
     ]
    }
   ],
   "source": [
    "#create new df \n",
    "y_train = pd.DataFrame({'col':y_train})\n",
    "#print (y_train)\n",
    "\n",
    "y_test = pd.DataFrame({'col':y_test})\n",
    "#print (y_test)\n",
    "\n",
    "print(\"x_train shape : \",x1_train.shape)\n",
    "print(\"y_train shape : \",y_train.shape)\n",
    "print(\"x_test shape : \",x1_test.shape)\n",
    "print(\"y_test shape : \",y_test.shape)"
   ]
  },
  {
   "cell_type": "code",
   "execution_count": 7,
   "metadata": {},
   "outputs": [
    {
     "name": "stdout",
     "output_type": "stream",
     "text": [
      "train dataset Class 0 : 72471\n",
      "train dataset Class 1 : 15083\n",
      "****************************\n",
      "test dataset Class 0 : 18118\n",
      "test dataset Class 1 : 3774\n"
     ]
    }
   ],
   "source": [
    "x1_train[187] = y_train\n",
    "x1_test[187] =  y_test\n",
    "\n",
    "train=x1_train\n",
    "test=x1_test\n",
    "\n",
    "#print(\"Type\\tCount\")\n",
    "a=(train[187]).value_counts()\n",
    "#print(a)\n",
    "print('train dataset Class 0 :', a[0])\n",
    "print('train dataset Class 1 :', a[1])\n",
    "\n",
    "#a.plot(kind='bar', title='Count of train classes');\n",
    "\n",
    "print(\"****************************\")\n",
    "\n",
    "#print(\"Type\\tCount\")\n",
    "b=(test[187]).value_counts()\n",
    "#print(b)\n",
    "print('test dataset Class 0 :', b[0])\n",
    "print('test dataset Class 1 :', b[1])\n",
    "#b.plot(kind='bar', title='Count of test classes');\n",
    "\n",
    "# Class count\n",
    "tr_count_class_0, tr_count_class_1=train[187].value_counts()\n",
    "ts_count_class_0, ts_count_class_1=test[187].value_counts()\n"
   ]
  },
  {
   "cell_type": "code",
   "execution_count": 8,
   "metadata": {},
   "outputs": [
    {
     "name": "stdout",
     "output_type": "stream",
     "text": [
      "Random over-sampling of train data:\n",
      "1    72471\n",
      "0    72471\n",
      "Name: 187, dtype: int64\n"
     ]
    },
    {
     "data": {
      "image/png": "[encoded data removed]",
      "text/plain": [
       "<Figure size 432x288 with 1 Axes>"
      ]
     },
     "metadata": {
      "needs_background": "light"
     },
     "output_type": "display_data"
    }
   ],
   "source": [
    "# Divide by class\n",
    "tr_class_0 = train[train[187] == 0]\n",
    "tr_class_1 = train[train[187] == 1]\n",
    "\n",
    "ts_class_0 = test[test[187] == 0]\n",
    "ts_class_1 = test[test[187] == 1]\n",
    "\n",
    "tr_class1_over = tr_class_1.sample(tr_count_class_0, replace=True)\n",
    "train_over = pd.concat([tr_class_0, tr_class1_over], axis=0)\n",
    "\n",
    "print('Random over-sampling of train data:')\n",
    "\n",
    "print(train_over[187].value_counts())\n",
    "\n",
    "train_over[187].value_counts().plot(kind='bar', title='Count of classes in train dataset');\n",
    "\n"
   ]
  },
  {
   "cell_type": "code",
   "execution_count": 9,
   "metadata": {},
   "outputs": [
    {
     "name": "stdout",
     "output_type": "stream",
     "text": [
      "Random over-sampling of test data:\n",
      "1    18118\n",
      "0    18118\n",
      "Name: 187, dtype: int64\n"
     ]
    },
    {
     "data": {
      "image/png": "[encoded data removed]",
      "text/plain": [
       "<Figure size 432x288 with 1 Axes>"
      ]
     },
     "metadata": {
      "needs_background": "light"
     },
     "output_type": "display_data"
    }
   ],
   "source": [
    "ts_class1_over = ts_class_1.sample(ts_count_class_0, replace=True)\n",
    "test_over = pd.concat([ts_class_0, ts_class1_over], axis=0)\n",
    "\n",
    "print('Random over-sampling of test data:')\n",
    "print(test_over[187].value_counts())\n",
    "\n",
    "test_over[187].value_counts().plot(kind='bar', title='Count of classes in test dataset');\n",
    "\n",
    "\n"
   ]
  },
  {
   "cell_type": "code",
   "execution_count": 10,
   "metadata": {},
   "outputs": [],
   "source": [
    "train=train_over\n",
    "test=test_over\n"
   ]
  },
  {
   "cell_type": "code",
   "execution_count": 11,
   "metadata": {},
   "outputs": [
    {
     "name": "stdout",
     "output_type": "stream",
     "text": [
      "Type\tCount\n",
      "1    72471\n",
      "0    72471\n",
      "Name: 187, dtype: int64\n",
      "***************************\n",
      "Type\tCount\n",
      "1    18118\n",
      "0    18118\n",
      "Name: 187, dtype: int64\n",
      "x_train shape :  (144942, 187)\n",
      "y_train shape :  (144942,)\n",
      "x_test shape :  (36236, 187)\n",
      "y_test shape :  (36236,)\n"
     ]
    }
   ],
   "source": [
    "print(\"Type\\tCount\")\n",
    "print((train[187]).value_counts())\n",
    "\n",
    "\n",
    "print(\"***************************\")\n",
    "\n",
    "print(\"Type\\tCount\")\n",
    "print((test[187]).value_counts())\n",
    "\n",
    "x1_train=train.iloc[:,0:187] \n",
    "print(\"x_train shape : \",x1_train.shape)\n",
    "\n",
    "y1_train=train.iloc[:,187] \n",
    "print(\"y_train shape : \",y1_train.shape)\n",
    "\n",
    "\n",
    "x1_test=test.iloc[:,0:187] \n",
    "print(\"x_test shape : \",x1_test.shape)\n",
    "\n",
    "y1_test=test.iloc[:,187] \n",
    "print(\"y_test shape : \",y1_test.shape)\n"
   ]
  },
  {
   "cell_type": "code",
   "execution_count": 12,
   "metadata": {},
   "outputs": [
    {
     "name": "stdout",
     "output_type": "stream",
     "text": [
      "(144942, 187)\n",
      "(36236, 187)\n",
      "shape of train sample (144942, 187) and labels (144942,)\n",
      "shape of test sample (36236, 187) and labels (36236,)\n"
     ]
    }
   ],
   "source": [
    "from sklearn.preprocessing import StandardScaler\n",
    "standardized_tr_data=StandardScaler().fit_transform(x1_train)\n",
    "print(standardized_tr_data.shape)\n",
    "\n",
    "standardized_ts_data=StandardScaler().fit_transform(x1_test)\n",
    "print(standardized_ts_data.shape)\n",
    "\n",
    "sample_tr_data=standardized_tr_data\n",
    "labels_tr=y1_train\n",
    "print(\"shape of train sample {0} and labels {1}\".format(sample_tr_data.shape,y1_train.shape))\n",
    "\n",
    "sample_ts_data=standardized_ts_data\n",
    "labels_ts=y1_test\n",
    "print(\"shape of test sample {0} and labels {1}\".format(sample_ts_data.shape,y1_test.shape))\n",
    "\n"
   ]
  },
  {
   "cell_type": "code",
   "execution_count": 13,
   "metadata": {},
   "outputs": [],
   "source": [
    "#for train data\n",
    "\n",
    "from sklearn import decomposition\n",
    "pca=decomposition.PCA()\n",
    "\n",
    "pca.n_components = 80\n",
    "tr_pca_data = pca.fit_transform(sample_tr_data)\n",
    "\n",
    "\n",
    "percentage_var_explained = pca.explained_variance_ / np.sum(pca.explained_variance_ )\n",
    "\n",
    "cummulative_var_exp = np.cumsum(percentage_var_explained)\n"
   ]
  },
  {
   "cell_type": "code",
   "execution_count": 14,
   "metadata": {},
   "outputs": [
    {
     "data": {
      "image/png": "[encoded data removed]",
      "text/plain": [
       "<Figure size 432x288 with 1 Axes>"
      ]
     },
     "metadata": {
      "needs_background": "light"
     },
     "output_type": "display_data"
    }
   ],
   "source": [
    "# Plot the PCA spectrum\n",
    "plt.figure(1, figsize=(6, 4))\n",
    "\n",
    "plt.clf()\n",
    "plt.plot(cummulative_var_exp, linewidth=2)\n",
    "plt.axis('tight')\n",
    "plt.grid()\n",
    "plt.xlabel('n_components')\n",
    "plt.ylabel('Cumulative_explained_variance')\n",
    "plt.show()"
   ]
  },
  {
   "cell_type": "code",
   "execution_count": 15,
   "metadata": {},
   "outputs": [],
   "source": [
    "#for test data\n",
    "\n",
    "from sklearn import decomposition\n",
    "pca=decomposition.PCA()\n",
    "\n",
    "pca.n_components = 80\n",
    "ts_pca_data = pca.fit_transform(sample_ts_data)\n",
    "\n",
    "\n",
    "percentage_var_explained = pca.explained_variance_ / np.sum(pca.explained_variance_ )\n",
    "\n",
    "cummulative_var_exp = np.cumsum(percentage_var_explained)\n"
   ]
  },
  {
   "cell_type": "code",
   "execution_count": 16,
   "metadata": {},
   "outputs": [
    {
     "data": {
      "image/png": "[encoded data removed]",
      "text/plain": [
       "<Figure size 432x288 with 1 Axes>"
      ]
     },
     "metadata": {
      "needs_background": "light"
     },
     "output_type": "display_data"
    }
   ],
   "source": [
    "\n",
    "# Plot the PCA spectrum\n",
    "plt.figure(1, figsize=(6, 4))\n",
    "\n",
    "plt.clf()\n",
    "plt.plot(cummulative_var_exp, linewidth=2)\n",
    "plt.axis('tight')\n",
    "plt.grid()\n",
    "plt.xlabel('n_components')\n",
    "plt.ylabel('Cumulative_explained_variance')\n",
    "plt.show()"
   ]
  },
  {
   "cell_type": "code",
   "execution_count": 17,
   "metadata": {},
   "outputs": [
    {
     "name": "stdout",
     "output_type": "stream",
     "text": [
      "(144942, 80)\n",
      "(144942,)\n",
      "(36236, 80)\n",
      "(36236,)\n",
      "(144942, 80)\n",
      "(144942,)\n",
      "(36236, 80)\n",
      "(36236,)\n"
     ]
    }
   ],
   "source": [
    "print(tr_pca_data.shape)\n",
    "print(y1_train.shape)\n",
    "\n",
    "print(ts_pca_data.shape)\n",
    "print(y1_test.shape)\n",
    "\n",
    "x_train1=tr_pca_data\n",
    "y_train1=y1_train\n",
    "x_test1=ts_pca_data\n",
    "y_test1=y1_test\n",
    "\n",
    "print(x_train1.shape)\n",
    "print(y_train1.shape)\n",
    "print(x_test1.shape)\n",
    "print(y_test1.shape)"
   ]
  },
  {
   "cell_type": "code",
   "execution_count": 18,
   "metadata": {},
   "outputs": [
    {
     "name": "stdout",
     "output_type": "stream",
     "text": [
      "[[11598  6520]\n",
      " [ 3157 14961]]\n",
      "********************************\n",
      "              precision    recall  f1-score   support\n",
      "\n",
      "           0       0.79      0.64      0.71     18118\n",
      "           1       0.70      0.83      0.76     18118\n",
      "\n",
      "    accuracy                           0.73     36236\n",
      "   macro avg       0.74      0.73      0.73     36236\n",
      "weighted avg       0.74      0.73      0.73     36236\n",
      "\n",
      "********************************\n",
      "Precision of nb is : 0.7412572932340529\n",
      "Recall of nb is : 0.7329451374323877\n",
      "F1_score of nb is : 0.7306249094177311\n",
      "Accuracy of nb is : 0.7329451374323877\n"
     ]
    }
   ],
   "source": [
    "#Naive Bayes\n",
    "a_nb=GaussianNB()\n",
    "a_nb.fit(x_train1,y_train1)\n",
    "y_pred_nb=a_nb.predict(x_test1)\n",
    "\n",
    "cm_nb=confusion_matrix(y_test1,y_pred_nb)\n",
    "print(cm_nb)\n",
    "print(\"********************************\")\n",
    "\n",
    "report_nb=classification_report(y_test1,y_pred_nb)\n",
    "print(report_nb)\n",
    "\n",
    "print(\"********************************\")\n",
    "\n",
    "Precision_nb= precision_score(y_test1, y_pred_nb,average='weighted')      \n",
    "print('Precision of nb is : {0}'.format(Precision_nb))\n",
    "\n",
    "Recall_nb= recall_score(y_test1, y_pred_nb,average='weighted')\n",
    "print('Recall of nb is : {0}'.format(Recall_nb))\n",
    "\n",
    "F1_score_nb= f1_score(y_test1, y_pred_nb,average='weighted')\n",
    "print('F1_score of nb is : {0}'.format(F1_score_nb))\n",
    "\n",
    "Accuracy_nb=accuracy_score(y_test1, y_pred_nb)\n",
    "print(\"Accuracy of nb is : {0}\".format(Accuracy_nb))\n",
    "\n",
    "#Precision of nb is : 0.7387312150611883\n",
    "#Recall of nb is : 0.7290263826029363\n",
    "#F1_score of nb is : 0.7262442223861206\n",
    "#Accuracy of nb is : 0.7290263826029363\n",
    "\n",
    "\n",
    "\n"
   ]
  },
  {
   "cell_type": "code",
   "execution_count": null,
   "metadata": {},
   "outputs": [],
   "source": []
  }
 ],
 "metadata": {
  "kernelspec": {
   "display_name": "Python 3",
   "language": "python",
   "name": "python3"
  },
  "language_info": {
   "codemirror_mode": {
    "name": "ipython",
    "version": 3
   },
   "file_extension": ".py",
   "mimetype": "text/x-python",
   "name": "python",
   "nbconvert_exporter": "python",
   "pygments_lexer": "ipython3",
   "version": "3.7.3"
  }
 },
 "nbformat": 4,
 "nbformat_minor": 2
}
